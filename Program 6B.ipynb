{
 "cells": [
  {
   "cell_type": "code",
   "execution_count": null,
   "id": "929eaf78",
   "metadata": {},
   "outputs": [],
   "source": [
    "def list_methods_demo():\n",
    "    my_list = [1, 2, 3, 4, 5]\n",
    "    \n",
    "    my_list.append(6)\n",
    "    print(\"Appended method: \", my_list)\n",
    "    \n",
    "    my_list.extent([7, 8, 9])\n",
    "    print(\"Extended method: \", my_list)\n",
    "    \n",
    "    my_list.insert(2, 10)\n",
    "    print(\"Insertion method: \", my_list)\n",
    "    \n",
    "    my_list.remove(3)\n",
    "    print(\"Remove method: \", my_list)\n",
    "    \n",
    "    popped_ele = my_list.pop()\n",
    "    print(\"Popped Element using pop method\", popped_ele)\n",
    "\n",
    "def tuples_methods_demo:\n",
    "    my_tuple = (16, 12, 35, 4, 52, 4)\n",
    "    \n",
    "    index = my_tuple.index(35)\n",
    "    print(\"Index of element 35:\", index)\n",
    "    \n",
    "    count = my_tuple.count()\n",
    "    print(\"Count of element:\", count)\n",
    "    \n",
    "    # Sort Method\n",
    "    print(\"Sorted elements of tuple are:\", sorted(my_tuple))\n",
    "    \n",
    "    #Minimum Method\n",
    "    print(\"Minimum element:\", min(my_tuple))\n",
    "    \n",
    "    #Sum Method\n",
    "    print(\"Summation of elements:\", sum(my_tuple))\n",
    "    \n",
    "    print(\"Updtated Method is:\", my_tuple)\n",
    "    \n",
    "def set"
   ]
  }
 ],
 "metadata": {
  "kernelspec": {
   "display_name": "Python 3 (ipykernel)",
   "language": "python",
   "name": "python3"
  },
  "language_info": {
   "codemirror_mode": {
    "name": "ipython",
    "version": 3
   },
   "file_extension": ".py",
   "mimetype": "text/x-python",
   "name": "python",
   "nbconvert_exporter": "python",
   "pygments_lexer": "ipython3",
   "version": "3.11.5"
  }
 },
 "nbformat": 4,
 "nbformat_minor": 5
}
