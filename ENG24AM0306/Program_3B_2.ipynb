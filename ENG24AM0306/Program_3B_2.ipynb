{
 "cells": [
  {
   "cell_type": "code",
   "execution_count": 13,
   "id": "419fd166",
   "metadata": {},
   "outputs": [
    {
     "name": "stdout",
     "output_type": "stream",
     "text": [
      "Enter the first value: 4\n",
      "Enter the second value: 5\n",
      "Sum: 9\n",
      "Subtraction: -1\n",
      "Multiplication: 20\n",
      "Division: 0.8\n"
     ]
    }
   ],
   "source": [
    "from Program_3B_1 import * \n",
    "\n",
    "x = int(input(\"Enter the first value: \"))\n",
    "y = int(input(\"Enter the second value: \"))\n",
    "\n",
    "sum = add(x, y)\n",
    "print(\"Sum:\", sum)\n",
    "\n",
    "sub = sub(x, y)\n",
    "print(\"Subtraction:\", sub)\n",
    "\n",
    "mul = mul(x, y)\n",
    "print(\"Multiplication:\", mul)\n",
    "\n",
    "divide = divide(x, y)\n",
    "print(\"Division:\", divide)"
   ]
  },
  {
   "cell_type": "code",
   "execution_count": null,
   "id": "a27bbb2d",
   "metadata": {},
   "outputs": [],
   "source": [
    "\n",
    "\n"
   ]
  },
  {
   "cell_type": "code",
   "execution_count": null,
   "id": "aca41f95",
   "metadata": {},
   "outputs": [],
   "source": []
  },
  {
   "cell_type": "code",
   "execution_count": null,
   "id": "36f589b0",
   "metadata": {},
   "outputs": [],
   "source": []
  }
 ],
 "metadata": {
  "kernelspec": {
   "display_name": "Python 3 (ipykernel)",
   "language": "python",
   "name": "python3"
  },
  "language_info": {
   "codemirror_mode": {
    "name": "ipython",
    "version": 3
   },
   "file_extension": ".py",
   "mimetype": "text/x-python",
   "name": "python",
   "nbconvert_exporter": "python",
   "pygments_lexer": "ipython3",
   "version": "3.11.5"
  }
 },
 "nbformat": 4,
 "nbformat_minor": 5
}
