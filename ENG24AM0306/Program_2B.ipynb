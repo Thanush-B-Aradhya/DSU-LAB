{
 "cells": [
  {
   "cell_type": "code",
   "execution_count": 3,
   "id": "eabbee3a",
   "metadata": {},
   "outputs": [
    {
     "name": "stdout",
     "output_type": "stream",
     "text": [
      "Enter the number: 1000\n",
      "Sum of square of even numbers less than 1000 is 167167000\n"
     ]
    }
   ],
   "source": [
    "n = int(input(\"Enter the number: \"))\n",
    "sum = 0\n",
    "\n",
    "for i in range(1, n+1):\n",
    "    if(i%2 == 0):\n",
    "        term = i*i\n",
    "    else:\n",
    "        term = 0\n",
    "    sum = sum + term\n",
    "print(\"Sum of square of even numbers less than\" ,n , \"is\", sum)"
   ]
  },
  {
   "cell_type": "code",
   "execution_count": null,
   "id": "ea282e55",
   "metadata": {},
   "outputs": [],
   "source": []
  }
 ],
 "metadata": {
  "kernelspec": {
   "display_name": "Python 3 (ipykernel)",
   "language": "python",
   "name": "python3"
  },
  "language_info": {
   "codemirror_mode": {
    "name": "ipython",
    "version": 3
   },
   "file_extension": ".py",
   "mimetype": "text/x-python",
   "name": "python",
   "nbconvert_exporter": "python",
   "pygments_lexer": "ipython3",
   "version": "3.11.5"
  }
 },
 "nbformat": 4,
 "nbformat_minor": 5
}
