{
 "cells": [
  {
   "cell_type": "code",
   "execution_count": 1,
   "id": "73abf4b9",
   "metadata": {},
   "outputs": [
    {
     "name": "stdout",
     "output_type": "stream",
     "text": [
      "Enter integer value: 5\n",
      "Enter float value: 5.5\n",
      "Enter char value: a\n",
      "Enter string value: abcd123\n",
      "Enter complex value: 1+3j\n",
      "Enter boolean value: 0\n",
      "\n",
      "\n",
      "Entered integer value is: 5 \n",
      "Entered float value is: 5.5 \n",
      "Entered char value is: a \n",
      "Entered str value is: abcd123 \n",
      "Entered complex value is: (1+3j) \n",
      "Entered bool value is: True \n",
      "Entered nonetype value is: None\n"
     ]
    }
   ],
   "source": [
    "num = int(input(\"Enter integer value: \"))\n",
    "amt = float(input(\"Enter float value: \"))\n",
    "code = str(input(\"Enter char value: \"))\n",
    "msg = str(input(\"Enter string value: \"))\n",
    "comp = complex(input(\"Enter complex value: \"))\n",
    "boolean = bool(input(\"Enter boolean value: \"))\n",
    "none_type = None\n"
   ]
  },
  {
   "cell_type": "code",
   "execution_count": null,
   "id": "8e1f9651",
   "metadata": {},
   "outputs": [],
   "source": []
  }
 ],
 "metadata": {
  "kernelspec": {
   "display_name": "Python 3 (ipykernel)",
   "language": "python",
   "name": "python3"
  },
  "language_info": {
   "codemirror_mode": {
    "name": "ipython",
    "version": 3
   },
   "file_extension": ".py",
   "mimetype": "text/x-python",
   "name": "python",
   "nbconvert_exporter": "python",
   "pygments_lexer": "ipython3",
   "version": "3.11.5"
  }
 },
 "nbformat": 4,
 "nbformat_minor": 5
}
