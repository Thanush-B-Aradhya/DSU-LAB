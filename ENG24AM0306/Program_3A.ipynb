{
 "cells": [
  {
   "cell_type": "code",
   "execution_count": 3,
   "id": "a7300a24",
   "metadata": {},
   "outputs": [
    {
     "name": "stdout",
     "output_type": "stream",
     "text": [
      "Enter the first value: 5\n",
      "Enter the second value: 4\n",
      "Result is: 9\n"
     ]
    }
   ],
   "source": [
    "def add(x, y):\n",
    "    return(x + y)\n",
    "num1 = int(input(\"Enter the first value: \"))\n",
    "num2 = int(input(\"Enter the second value: \"))\n",
    "\n",
    "sum = add(num1, num2)\n",
    "\n",
    "print(\"Result is:\", sum)"
   ]
  },
  {
   "cell_type": "code",
   "execution_count": null,
   "id": "9e3c3819",
   "metadata": {},
   "outputs": [],
   "source": []
  }
 ],
 "metadata": {
  "kernelspec": {
   "display_name": "Python 3 (ipykernel)",
   "language": "python",
   "name": "python3"
  },
  "language_info": {
   "codemirror_mode": {
    "name": "ipython",
    "version": 3
   },
   "file_extension": ".py",
   "mimetype": "text/x-python",
   "name": "python",
   "nbconvert_exporter": "python",
   "pygments_lexer": "ipython3",
   "version": "3.11.5"
  }
 },
 "nbformat": 4,
 "nbformat_minor": 5
}
