{
 "cells": [
  {
   "cell_type": "code",
   "execution_count": 3,
   "id": "64f773de",
   "metadata": {},
   "outputs": [
    {
     "name": "stdout",
     "output_type": "stream",
     "text": [
      "Hi %f'% a\n"
     ]
    }
   ],
   "source": [
    "a = 5\n",
    "print(\"Hi %f'% a\")"
   ]
  },
  {
   "cell_type": "code",
   "execution_count": null,
   "id": "cb009a06",
   "metadata": {},
   "outputs": [],
   "source": []
  }
 ],
 "metadata": {
  "kernelspec": {
   "display_name": "Python 3 (ipykernel)",
   "language": "python",
   "name": "python3"
  },
  "language_info": {
   "codemirror_mode": {
    "name": "ipython",
    "version": 3
   },
   "file_extension": ".py",
   "mimetype": "text/x-python",
   "name": "python",
   "nbconvert_exporter": "python",
   "pygments_lexer": "ipython3",
   "version": "3.11.5"
  }
 },
 "nbformat": 4,
 "nbformat_minor": 5
}
