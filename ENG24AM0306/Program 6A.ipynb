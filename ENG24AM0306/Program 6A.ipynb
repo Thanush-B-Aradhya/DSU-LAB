{
 "cells": [
  {
   "cell_type": "code",
   "execution_count": 8,
   "id": "172324ba",
   "metadata": {},
   "outputs": [
    {
     "name": "stdout",
     "output_type": "stream",
     "text": [
      "Enter the file name: untitledd.txt\n",
      "{'The': 3, 'Waldenâ€“Wallkill': 1, 'Rail': 2, 'Trail,': 2, 'also': 1, 'known': 1, 'as': 1, 'the': 4, 'Jesse': 1, 'McHugh': 1, 'is': 2, 'a': 1, '3.22-mile': 1, '(5.18': 1, 'km)': 1, 'rail': 2, 'trail': 2, 'between': 1, 'village': 1, 'of': 3, 'Walden': 1, 'and': 2, 'hamlet': 1, 'Wallkill.': 1, 'two': 1, 'communities': 1, 'are': 1, 'located': 1, 'in': 2, 'Orange': 1, 'County': 1, 'Ulster': 1, 'County,': 1, 'respectively,': 1, 'upstate': 1, 'New': 1, 'York.': 1, 'part': 1, 'former': 1, 'Wallkill': 1, 'Valley': 1, \"Railroad's\": 1, 'corridor.': 1}\n"
     ]
    }
   ],
   "source": [
    "fname = input(\"Enter the file name: \")\n",
    "fd = open(fname, 'r')\n",
    "counts = dict()\n",
    "\n",
    "for line in fd:\n",
    "    words = line.split()\n",
    "    for w in words:\n",
    "        if w in counts:\n",
    "            counts[w] += 1\n",
    "        else:\n",
    "            counts[w] = 1\n",
    "print(counts)"
   ]
  },
  {
   "cell_type": "code",
   "execution_count": null,
   "id": "e7f50739",
   "metadata": {},
   "outputs": [],
   "source": []
  },
  {
   "cell_type": "code",
   "execution_count": null,
   "id": "f14ea663",
   "metadata": {},
   "outputs": [],
   "source": []
  }
 ],
 "metadata": {
  "kernelspec": {
   "display_name": "Python 3 (ipykernel)",
   "language": "python",
   "name": "python3"
  },
  "language_info": {
   "codemirror_mode": {
    "name": "ipython",
    "version": 3
   },
   "file_extension": ".py",
   "mimetype": "text/x-python",
   "name": "python",
   "nbconvert_exporter": "python",
   "pygments_lexer": "ipython3",
   "version": "3.11.5"
  }
 },
 "nbformat": 4,
 "nbformat_minor": 5
}
