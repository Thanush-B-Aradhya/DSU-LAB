{
 "cells": [
  {
   "cell_type": "code",
   "execution_count": 19,
   "id": "ade2ce4d",
   "metadata": {},
   "outputs": [
    {
     "name": "stdout",
     "output_type": "stream",
     "text": [
      "\n",
      "Enter the quantity of the itme sold: 80\n",
      "\n",
      "Enter the value of the item: 100\n",
      "\n",
      "Enter the discount percentage: 10\n",
      "\n",
      "Enter the tax: 18\n",
      "\n",
      "\n",
      "\n",
      "*************BILL*************\n",
      "\n",
      "Quantity Sold:    \t\t 80.0\n",
      "Price per quantity: \t\t $100.0\n",
      "\n",
      "\t\t  -----------\n",
      "Amount:\t\t\t 8000.0\n",
      "Discount:   \t\t\t  10.0%\n",
      "Sub Total: \t\t\t$7200.0\n",
      "Tax:     \t\t\t\t 18.0\n",
      "Total Bill Amount:\t\t $8496.0\n"
     ]
    }
   ],
   "source": [
    "qty = float(input(\"\\nEnter the quantity of the itme sold: \"))\n",
    "val = float(input(\"\\nEnter the value of the item: \"))\n",
    "discount = float(input(\"\\nEnter the discount percentage: \"))\n",
    "tax = float(input(\"\\nEnter the tax: \"))\n",
    "\n",
    "amt = qty * val\n",
    "discount_amt = (amt * discount) / 100\n",
    "sub_total = amt - discount_amt\n",
    "tax_amt = (sub_total * tax) / 100\n",
    "total_amt = sub_total + tax_amt\n",
    "\n",
    "print(\"\\n\\n\\n*************BILL*************\")\n",
    "\n",
    "print(\"\\nQuantity Sold:    \\t\\t\", qty)\n",
    "print(f\"Price per quantity: \\t\\t ${val}\")\n",
    "\n",
    "print(\"\\n\\t\\t  -----------\")\n",
    "\n",
    "print(\"Amount:\\t\\t\\t\", amt)\n",
    "print(f\"Discount:   \\t\\t\\t  {discount}%\")\n",
    "print(f\"Sub Total: \\t\\t\\t${sub_total}\")\n",
    "print(f\"Tax: \\t\\t\\t\\t {tax}\")\n",
    "print(f\"Total Bill Amount:\\t\\t ${total_amt}\")"
   ]
  },
  {
   "cell_type": "code",
   "execution_count": null,
   "id": "b8aaab49",
   "metadata": {},
   "outputs": [],
   "source": []
  },
  {
   "cell_type": "code",
   "execution_count": null,
   "id": "ddf500f7",
   "metadata": {},
   "outputs": [],
   "source": []
  }
 ],
 "metadata": {
  "kernelspec": {
   "display_name": "Python 3 (ipykernel)",
   "language": "python",
   "name": "python3"
  },
  "language_info": {
   "codemirror_mode": {
    "name": "ipython",
    "version": 3
   },
   "file_extension": ".py",
   "mimetype": "text/x-python",
   "name": "python",
   "nbconvert_exporter": "python",
   "pygments_lexer": "ipython3",
   "version": "3.11.5"
  }
 },
 "nbformat": 4,
 "nbformat_minor": 5
}
