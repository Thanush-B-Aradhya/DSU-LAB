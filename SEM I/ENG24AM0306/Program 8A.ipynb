{
 "cells": [
  {
   "cell_type": "code",
   "execution_count": 1,
   "id": "272f836c",
   "metadata": {},
   "outputs": [
    {
     "name": "stdout",
     "output_type": "stream",
     "text": [
      "Enter the numerator : 5\n",
      "Enter the denominator : 4\n",
      "Enter the numerator : 5\n",
      "Enter the denominator : 3\n",
      "RESULTANT FRACTION IS : \n",
      "35 / 12\n"
     ]
    }
   ],
   "source": [
    " \n",
    "def GCD(num, deno):  \n",
    "    if(deno == 0): \n",
    "        return num \n",
    "    else: \n",
    "        return GCD(deno,num%deno) \n",
    "    \n",
    "class Fraction: \n",
    "    def __init__(self):  \n",
    "        self.num = 0 \n",
    "        self.deno = 1  \n",
    "    \n",
    "    def get(self): \n",
    "        self.num = int(input (\"Enter the numerator : \"))  \n",
    "        self.deno = int(input(\"Enter the denominator : \"))  \n",
    "    \n",
    "    def simplify(self): \n",
    "        common_divisor = GCD(self.num, self.deno) \n",
    "        self.num //= common_divisor \n",
    "        self.deno //= common_divisor \n",
    "    \n",
    "    def __add__(self, F): \n",
    "        Temp = Fraction() \n",
    "        Temp.num = (self.num * F.deno) + (F.num * self .deno)  \n",
    "        Temp.deno = self.deno * F.deno \n",
    "        return Temp  \n",
    "    \n",
    "    def display(self): \n",
    "        self.simplify() \n",
    "        print(self.num, \"/\", self.deno) \n",
    "\n",
    "F1 = Fraction() \n",
    "F1.get() \n",
    "F2 = Fraction() \n",
    "F2.get() \n",
    "F3 = Fraction() \n",
    "F3 = F1 + F2 \n",
    "print (\"RESULTANT FRACTION IS : \")  \n",
    "F3.display() "
   ]
  },
  {
   "cell_type": "code",
   "execution_count": null,
   "id": "8fb1be46",
   "metadata": {},
   "outputs": [],
   "source": []
  }
 ],
 "metadata": {
  "kernelspec": {
   "display_name": "Python 3 (ipykernel)",
   "language": "python",
   "name": "python3"
  },
  "language_info": {
   "codemirror_mode": {
    "name": "ipython",
    "version": 3
   },
   "file_extension": ".py",
   "mimetype": "text/x-python",
   "name": "python",
   "nbconvert_exporter": "python",
   "pygments_lexer": "ipython3",
   "version": "3.11.5"
  }
 },
 "nbformat": 4,
 "nbformat_minor": 5
}
