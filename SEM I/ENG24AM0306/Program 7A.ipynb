{
 "cells": [
  {
   "cell_type": "code",
   "execution_count": 5,
   "id": "56473ffa",
   "metadata": {},
   "outputs": [
    {
     "name": "stdout",
     "output_type": "stream",
     "text": [
      "New account created.\n",
      "Enter the amount to deposit:10000\n",
      "New Balance: 10000.0\n",
      "Enter the amount to withdraw:5050\n",
      "New Balance: 4950.0\n",
      "Balance: 4950.0\n"
     ]
    }
   ],
   "source": [
    "class Account:\n",
    "    def __init__(self):\n",
    "        self.balance = 0\n",
    "        print('New account created.')\n",
    "    \n",
    "    def deposit(self):\n",
    "        amount = float(input('Enter the amount to deposit:'))\n",
    "        self.balance += amount\n",
    "        print(f'New Balance: {self.balance}')\n",
    "        \n",
    "    def withdraw(self):\n",
    "        amount = float(input('Enter the amount to withdraw:'))\n",
    "        if (amount > self.balance):\n",
    "            print(\"Insufficient Balance.\")\n",
    "        else:\n",
    "            self.balance -= amount\n",
    "            print(f'New Balance: {self.balance}')\n",
    "            \n",
    "    def enquiry(self):\n",
    "        print(f'Balance: {self.balance}')\n",
    "        \n",
    "account = Account()\n",
    "account.deposit()\n",
    "account.withdraw()\n",
    "account.enquiry()\n"
   ]
  },
  {
   "cell_type": "code",
   "execution_count": null,
   "id": "725fda92",
   "metadata": {},
   "outputs": [],
   "source": []
  }
 ],
 "metadata": {
  "kernelspec": {
   "display_name": "Python 3 (ipykernel)",
   "language": "python",
   "name": "python3"
  },
  "language_info": {
   "codemirror_mode": {
    "name": "ipython",
    "version": 3
   },
   "file_extension": ".py",
   "mimetype": "text/x-python",
   "name": "python",
   "nbconvert_exporter": "python",
   "pygments_lexer": "ipython3",
   "version": "3.11.5"
  }
 },
 "nbformat": 4,
 "nbformat_minor": 5
}
