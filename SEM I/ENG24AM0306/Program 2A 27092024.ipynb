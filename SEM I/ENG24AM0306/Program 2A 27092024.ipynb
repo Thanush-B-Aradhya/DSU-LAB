{
 "cells": [
  {
   "cell_type": "code",
   "execution_count": 17,
   "id": "593b8961",
   "metadata": {},
   "outputs": [
    {
     "name": "stdout",
     "output_type": "stream",
     "text": [
      "Enter the value of a: 1\n",
      "Enter the value of b: 2\n",
      "Enter the value of c: 3\n",
      "\n",
      "IMAGINARY ROOTS\n",
      "Root 1: -1.0 +i 1.4142135623730951\n",
      "Root 2: -1.0 -i 1.4142135623730951\n"
     ]
    }
   ],
   "source": [
    "a = int(input(\"Enter the value of a: \"))\n",
    "b = int(input(\"Enter the value of b: \"))\n",
    "c = int(input(\"Enter the value of c: \"))\n",
    "\n",
    "D = (b*b) - (4*a*c)\n",
    "# print(D)\n",
    "deno = 2*a\n",
    "\n",
    "if(D>0):\n",
    "    print(\"\\nREAL & DISTINCT ROOTS\")\n",
    "    root_1 = (-b + (D**0.5)) / deno\n",
    "    root_2 = (-b - (D**0.5)) / deno\n",
    "    print(\"Root 1:\", root_1, \"\\nRoot 2:\", root_2)\n",
    "    \n",
    "elif(D==0):\n",
    "    print(\"\\nEQUAL ROOTS\")\n",
    "    root = (-b) / deno\n",
    "    print(\"Root 1 & Root 2:\", root)\n",
    "\n",
    "else:\n",
    "    print(\"\\nIMAGINARY ROOTS\")\n",
    "    real = -b / deno\n",
    "    img = ((-1*D)**0.5) / deno\n",
    "    print(\"Root 1:\", real,\"+i\", img)\n",
    "    print(\"Root 2:\", real,\"-i\", img)"
   ]
  },
  {
   "cell_type": "code",
   "execution_count": null,
   "id": "107c73d7",
   "metadata": {},
   "outputs": [],
   "source": []
  },
  {
   "cell_type": "code",
   "execution_count": null,
   "id": "b20a796d",
   "metadata": {},
   "outputs": [],
   "source": []
  },
  {
   "cell_type": "code",
   "execution_count": null,
   "id": "21c77231",
   "metadata": {},
   "outputs": [],
   "source": []
  }
 ],
 "metadata": {
  "kernelspec": {
   "display_name": "Python 3 (ipykernel)",
   "language": "python",
   "name": "python3"
  },
  "language_info": {
   "codemirror_mode": {
    "name": "ipython",
    "version": 3
   },
   "file_extension": ".py",
   "mimetype": "text/x-python",
   "name": "python",
   "nbconvert_exporter": "python",
   "pygments_lexer": "ipython3",
   "version": "3.11.5"
  }
 },
 "nbformat": 4,
 "nbformat_minor": 5
}
