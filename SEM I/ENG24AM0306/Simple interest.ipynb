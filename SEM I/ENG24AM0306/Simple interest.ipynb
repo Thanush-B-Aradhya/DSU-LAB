{
 "cells": [
  {
   "cell_type": "code",
   "execution_count": null,
   "id": "05938f3c",
   "metadata": {},
   "outputs": [],
   "source": [
    "p = float(input(\"Enter the Principal Amount: \"))\n",
    "t = float(input(\"Enter the time: \"))\n",
    "r = float(input(\"Enter the rate of interest: \"))\n",
    "\n",
    "si = (p*t*r)/100\n",
    "\n",
    "print(f\"Intrest to be paid\")"
   ]
  }
 ],
 "metadata": {
  "kernelspec": {
   "display_name": "Python 3 (ipykernel)",
   "language": "python",
   "name": "python3"
  },
  "language_info": {
   "codemirror_mode": {
    "name": "ipython",
    "version": 3
   },
   "file_extension": ".py",
   "mimetype": "text/x-python",
   "name": "python",
   "nbconvert_exporter": "python",
   "pygments_lexer": "ipython3",
   "version": "3.11.5"
  }
 },
 "nbformat": 4,
 "nbformat_minor": 5
}
