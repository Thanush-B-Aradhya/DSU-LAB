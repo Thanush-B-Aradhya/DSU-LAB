{
 "cells": [
  {
   "cell_type": "code",
   "execution_count": 3,
   "id": "0c4c5ef4",
   "metadata": {},
   "outputs": [
    {
     "name": "stdout",
     "output_type": "stream",
     "text": [
      "NAME :  Thanos\n",
      "AGE:  18\n",
      "GENDER :  Male\n",
      "DESIGNATION:  AIML\n",
      "DEPARTMENT:  Computer Science\n",
      "Number of Research papers Published:  22\n",
      "Number of Books Published:  1\n",
      "Number of Articles Published :  3\n"
     ]
    }
   ],
   "source": [
    "class Person: \n",
    "    def __init__(self, name, age, gender): \n",
    "        self.name = name  \n",
    "        self.age = age \n",
    "        self.gender = gender \n",
    "        \n",
    "    def display(self) : \n",
    "        print (\"NAME : \", self.name)  \n",
    "        print(\"AGE: \", self.age)  \n",
    "        print(\"GENDER : \", self.gender ) \n",
    "        \n",
    "class Publications: \n",
    "    def __init__(self, no_RP, no_Books, no_Art): \n",
    "        self.no_RP = no_RP  \n",
    "        self.no_Books = no_Books  \n",
    "        self.no_Art = no_Art \n",
    "        \n",
    "    def display(self): \n",
    "        print (\"Number of Research papers Published: \", self.no_RP)  \n",
    "        print(\"Number of Books Published: \", self.no_Books) \n",
    "        print (\"Number of Articles Published : \" , self.no_Art) \n",
    "        \n",
    "class Faculty(Person): \n",
    "    def __init__(self, name, age, gender, desig, dept, no_RP, no_Books, no_Art):  \n",
    "        Person.__init__(self, name, age, gender) \n",
    "        self.desig = desig  \n",
    "        self.dept = dept \n",
    "        self.Pub = Publications(no_RP, no_Books, no_Art) \n",
    "        \n",
    "    def display(self): \n",
    "        Person.display(self) \n",
    "        print (\"DESIGNATION: \", self.desig) \n",
    "        print (\"DEPARTMENT: \", self.dept)  \n",
    "        self.Pub.display() \n",
    "        \n",
    "F = Faculty(\"Thanos\",18,\"Male\",\"Villian\",\"Computer Science\",22,1,3)  \n",
    "F. display()\n"
   ]
  },
  {
   "cell_type": "code",
   "execution_count": null,
   "id": "6f58e9fc",
   "metadata": {},
   "outputs": [],
   "source": []
  }
 ],
 "metadata": {
  "kernelspec": {
   "display_name": "Python 3 (ipykernel)",
   "language": "python",
   "name": "python3"
  },
  "language_info": {
   "codemirror_mode": {
    "name": "ipython",
    "version": 3
   },
   "file_extension": ".py",
   "mimetype": "text/x-python",
   "name": "python",
   "nbconvert_exporter": "python",
   "pygments_lexer": "ipython3",
   "version": "3.11.5"
  }
 },
 "nbformat": 4,
 "nbformat_minor": 5
}
