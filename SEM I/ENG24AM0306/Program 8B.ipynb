{
 "cells": [
  {
   "cell_type": "code",
   "execution_count": 5,
   "id": "b949d67b",
   "metadata": {},
   "outputs": [
    {
     "name": "stdout",
     "output_type": "stream",
     "text": [
      "Enter a : 4\n",
      "Error in input in expression\n",
      "input(\"Enter a : s\")\n"
     ]
    }
   ],
   "source": [
    "class Error(Exception):  \n",
    "    def message(self): \n",
    "        raise NotImplementedError()  \n",
    "\n",
    "class InputError(Error): \n",
    "    def __init__(self, expr, msg):  \n",
    "        self.expr = expr \n",
    "        self.msg = msg  \n",
    "   \n",
    "    def message(self): \n",
    "        print(\"Error in input in expression\"),  \n",
    "        print(self.expr) \n",
    "try: \n",
    "    a = input(\"Enter a : \") \n",
    "    raise InputError(\"input(\\\"Enter a : s\\\")\", \"Input Error\")  \n",
    "   \n",
    "except InputError as ie: \n",
    "    ie.message() "
   ]
  },
  {
   "cell_type": "code",
   "execution_count": null,
   "id": "2c451fdf",
   "metadata": {},
   "outputs": [],
   "source": []
  },
  {
   "cell_type": "code",
   "execution_count": null,
   "id": "316756a4",
   "metadata": {},
   "outputs": [],
   "source": []
  }
 ],
 "metadata": {
  "kernelspec": {
   "display_name": "Python 3 (ipykernel)",
   "language": "python",
   "name": "python3"
  },
  "language_info": {
   "codemirror_mode": {
    "name": "ipython",
    "version": 3
   },
   "file_extension": ".py",
   "mimetype": "text/x-python",
   "name": "python",
   "nbconvert_exporter": "python",
   "pygments_lexer": "ipython3",
   "version": "3.11.5"
  }
 },
 "nbformat": 4,
 "nbformat_minor": 5
}
